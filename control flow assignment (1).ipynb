{
 "cells": [
  {
   "cell_type": "code",
   "execution_count": 1,
   "id": "8b927d74-917a-4de1-bbe3-d4395b66ea5e",
   "metadata": {},
   "outputs": [],
   "source": [
    "#basic if else statement\n"
   ]
  },
  {
   "cell_type": "code",
   "execution_count": 2,
   "id": "5bdabb29-64c0-4b67-a6df-7c51d1ab7590",
   "metadata": {},
   "outputs": [
    {
     "name": "stdin",
     "output_type": "stream",
     "text": [
      "enter number :  5\n"
     ]
    },
    {
     "name": "stdout",
     "output_type": "stream",
     "text": [
      "positive number.\n"
     ]
    }
   ],
   "source": [
    "num = float(input(\"enter number : \"))\n",
    "if num>0:\n",
    "    print(\"positive number.\")\n",
    "elif num==0:\n",
    "    print(\"zero\")\n",
    "else:\n",
    "    print(\"negative number\")"
   ]
  },
  {
   "cell_type": "code",
   "execution_count": 3,
   "id": "df8b0d54-6b24-438e-80f0-c09649a7da16",
   "metadata": {},
   "outputs": [
    {
     "name": "stdin",
     "output_type": "stream",
     "text": [
      "enter your age? 17\n"
     ]
    },
    {
     "name": "stdout",
     "output_type": "stream",
     "text": [
      "sorry! you have to wait!!\n"
     ]
    }
   ],
   "source": [
    "age = int(input(\"enter your age?\"))\n",
    "if age>18:\n",
    "    print(\"you are eligible to vote\")\n",
    "else:\n",
    "    print(\"sorry! you have to wait!!\")"
   ]
  },
  {
   "cell_type": "code",
   "execution_count": 4,
   "id": "0237a09d-8d8e-4c74-8013-91b9b2e15792",
   "metadata": {},
   "outputs": [
    {
     "name": "stdin",
     "output_type": "stream",
     "text": [
      "enter a number is a: 67\n",
      "enter a number is b: 56\n"
     ]
    },
    {
     "name": "stdout",
     "output_type": "stream",
     "text": [
      "the maximum value is:  67\n"
     ]
    }
   ],
   "source": [
    "a=int(input(\"enter a number is a:\"))\n",
    "b=int(input(\"enter a number is b:\"))\n",
    "if a>=b:\n",
    "    maximum=a\n",
    "else:\n",
    "    maximum=b\n",
    "print(\"the maximum value is: \",maximum)    \n"
   ]
  },
  {
   "cell_type": "code",
   "execution_count": 7,
   "id": "e4bfe56c-67fd-4f69-ac79-49219d4a3427",
   "metadata": {},
   "outputs": [
    {
     "name": "stdin",
     "output_type": "stream",
     "text": [
      "enter the year: 1987\n"
     ]
    },
    {
     "name": "stdout",
     "output_type": "stream",
     "text": [
      "1987 is not a leap year\n"
     ]
    }
   ],
   "source": [
    "year=int(input(\"enter the year:\"))\n",
    "if (year%4)==0:\n",
    "    if(year%100)==0:\n",
    "        if(year%400)==0:\n",
    "            print(year,\"is a leap year\")\n",
    "        else:\n",
    "            print(year,\"is not a leap year\")\n",
    "    else:\n",
    "        print(year,\"is a leap year\")\n",
    "else:\n",
    "    print(year,\"is not a leap year\")\n",
    "        "
   ]
  },
  {
   "cell_type": "code",
   "execution_count": 8,
   "id": "ea0f26cb-f31c-4dfe-bf62-aa88f8a86ced",
   "metadata": {},
   "outputs": [
    {
     "name": "stdin",
     "output_type": "stream",
     "text": [
      "enter the alphabet : h\n"
     ]
    },
    {
     "name": "stdout",
     "output_type": "stream",
     "text": [
      "h is a consonant\n"
     ]
    }
   ],
   "source": [
    "ch = input(\"enter the alphabet :\")\n",
    "if ch in ('a','e','i','o','u','A','E','I','O','U'):\n",
    "    print(ch,\"is a vowel\")\n",
    "else:\n",
    "    print(ch,\"is a consonant\")"
   ]
  },
  {
   "cell_type": "code",
   "execution_count": 10,
   "id": "fb13128f-c687-48a2-843a-34f9c76183a6",
   "metadata": {},
   "outputs": [
    {
     "name": "stdin",
     "output_type": "stream",
     "text": [
      "num 7\n"
     ]
    },
    {
     "name": "stdout",
     "output_type": "stream",
     "text": [
      "num is odd\n"
     ]
    }
   ],
   "source": [
    "a=int(input(\"num\"))\n",
    "if ((num%2)==0):\n",
    "    print(\"num is even.\")\n",
    "else:\n",
    "    print(\"num is odd\")"
   ]
  },
  {
   "cell_type": "code",
   "execution_count": 11,
   "id": "97689c9a-1386-4333-940f-8859aed5d673",
   "metadata": {},
   "outputs": [
    {
     "name": "stdin",
     "output_type": "stream",
     "text": [
      "enter the number= -7\n"
     ]
    },
    {
     "name": "stdout",
     "output_type": "stream",
     "text": [
      "| -7 | = 7\n"
     ]
    }
   ],
   "source": [
    "num=int(input(\"enter the number=\"))\n",
    "if(num<0):\n",
    "    num=-num\n",
    "    print(\"|\" , -num , \"|\" , \"=\" , num)\n",
    "else:\n",
    "    (\"|\" , num , \"|\" , \"=\" , num)\n",
    "    \n",
    "          "
   ]
  },
  {
   "cell_type": "code",
   "execution_count": 12,
   "id": "02ce709e-b2ca-49d0-a6d4-cd5d450ff1cb",
   "metadata": {},
   "outputs": [
    {
     "name": "stdin",
     "output_type": "stream",
     "text": [
      "enter the number 1 :  5\n",
      "enter the number 2 :  8\n",
      "enter the number 3 :  3\n"
     ]
    },
    {
     "name": "stdout",
     "output_type": "stream",
     "text": [
      "largest among 5 8 and 3 is 8\n"
     ]
    }
   ],
   "source": [
    "n1=int(input(\"enter the number 1 : \"))\n",
    "n2=int(input(\"enter the number 2 : \"))\n",
    "n3=int(input(\"enter the number 3 : \"))\n",
    "if n1 > n2 and n1 > n3:\n",
    "    largest = n1\n",
    "elif n2 > n1 and n2 > n3:\n",
    "    largest = n2\n",
    "else:\n",
    "    largest = n3\n",
    "print(\"largest among {} {} and {} is {}\" .format (n1,n2,n3,largest  ))   "
   ]
  },
  {
   "cell_type": "code",
   "execution_count": 13,
   "id": "0bede5a1-85a0-4e6c-b35c-7cda869db797",
   "metadata": {},
   "outputs": [
    {
     "name": "stdin",
     "output_type": "stream",
     "text": [
      "enter a string: naman\n"
     ]
    },
    {
     "name": "stdout",
     "output_type": "stream",
     "text": [
      "naman is a palindrome\n"
     ]
    }
   ],
   "source": [
    "n=input(\"enter a string:\")\n",
    "if n == n[::-1]:\n",
    "    print(n+\" is a palindrome\")\n",
    "else:\n",
    "    print(n+\" is not a palindrome\")\n",
    "    "
   ]
  },
  {
   "cell_type": "code",
   "execution_count": 16,
   "id": "fc18b5d1-0d28-48cb-bb18-fa246683810b",
   "metadata": {},
   "outputs": [
    {
     "name": "stdin",
     "output_type": "stream",
     "text": [
      "enter your marks upto 0 to 100 60\n"
     ]
    },
    {
     "name": "stdout",
     "output_type": "stream",
     "text": [
      "Your grade is :B\n"
     ]
    }
   ],
   "source": [
    "marks = int(input(\"enter your marks upto 0 to 100\"))\n",
    "if marks>=90:\n",
    "    grade = \"Excilent\"\n",
    "elif marks>=80:\n",
    "    grade = \"A++\"\n",
    "elif marks>=70:\n",
    "    grade = \"A\"\n",
    "elif marks>=60:\n",
    "    grade = \"B\"\n",
    "elif marks>=50:\n",
    "    grade = \"C\"\n",
    "else:\n",
    "    grade = \"Fail\"\n",
    "print(\"Your grade is :\" + grade)    \n",
    "    \n",
    "            "
   ]
  },
  {
   "cell_type": "code",
   "execution_count": 19,
   "id": "89876ad5-5fe3-4ca9-a353-79c8128217e1",
   "metadata": {},
   "outputs": [],
   "source": [
    "#nested if else statement\n"
   ]
  },
  {
   "cell_type": "code",
   "execution_count": 18,
   "id": "0ac06d08-6d78-421d-9d43-c79fb82f20b8",
   "metadata": {},
   "outputs": [
    {
     "name": "stdin",
     "output_type": "stream",
     "text": [
      "enter the number 1 67\n",
      "enter the number 2 56\n",
      "enter the number 3 89\n"
     ]
    },
    {
     "name": "stdout",
     "output_type": "stream",
     "text": [
      "largest is: 89\n"
     ]
    }
   ],
   "source": [
    "n1 = int(input(\"enter the number 1\"))\n",
    "n2 = int(input(\"enter the number 2\"))\n",
    "n3 = int(input(\"enter the number 3\"))\n",
    "if n1 > n2 and n1 > n3:\n",
    "    largest = n1\n",
    "elif n2 > n1 and n2 > n3 :\n",
    "    largest = n2\n",
    "else:\n",
    "    largest = n3\n",
    "print(\"largest is:\",largest)"
   ]
  },
  {
   "cell_type": "code",
   "execution_count": 30,
   "id": "7a8c634a-9ece-44cf-a2a3-d03cf6626d18",
   "metadata": {},
   "outputs": [
    {
     "name": "stdin",
     "output_type": "stream",
     "text": [
      "enter length of side 1: 5\n",
      "enter length of side 2: 7\n",
      "enter length of side 3: 5\n"
     ]
    },
    {
     "name": "stdout",
     "output_type": "stream",
     "text": [
      "the triangle is isoscales triangle\n"
     ]
    }
   ],
   "source": [
    "side1 = float(input(\"enter length of side 1:\"))\n",
    "side2 = float(input(\"enter length of side 2:\"))\n",
    "side3 = float(input(\"enter length of side 3:\"))\n",
    "if side1==side2==side3:\n",
    "    print(\" the triangle s equilateral triangle\")\n",
    "elif side1==side2!=side3 or side2==side3!=side1 or side3==side1!=side2:\n",
    "     print(\"the triangle is isoscales triangle\")\n",
    "else:\n",
    "    print(\"the triangle is scalene triangle\")"
   ]
  },
  {
   "cell_type": "code",
   "execution_count": 1,
   "id": "1d5ef14d-d85f-4386-aa7c-6ce247c42607",
   "metadata": {},
   "outputs": [
    {
     "name": "stdin",
     "output_type": "stream",
     "text": [
      "enter the year: 2000\n"
     ]
    },
    {
     "name": "stdout",
     "output_type": "stream",
     "text": [
      "2000 is a leap year \n"
     ]
    }
   ],
   "source": [
    "year = int(input(\"enter the year:\"))\n",
    "if year%4 ==0 or year%100 ==0 or year%400 ==0:\n",
    "    print (year,\"is a leap year \")\n",
    "else:\n",
    "    print(year,\"is not a leap year\")"
   ]
  },
  {
   "cell_type": "code",
   "execution_count": 2,
   "id": "68ad2a6c-1297-4f71-9e2b-2f31845a3a36",
   "metadata": {},
   "outputs": [
    {
     "name": "stdin",
     "output_type": "stream",
     "text": [
      "enter number :  6\n"
     ]
    },
    {
     "name": "stdout",
     "output_type": "stream",
     "text": [
      "Positive number\n"
     ]
    }
   ],
   "source": [
    "num = float(input(\"enter number : \"))\n",
    "if num>0:\n",
    "    print(\"Positive number\")\n",
    "elif num==0:\n",
    "    print(\"Zero\")\n",
    "else:\n",
    "    print(\"Negative number\")\n",
    "    "
   ]
  },
  {
   "cell_type": "code",
   "execution_count": 7,
   "id": "67fb7672-1717-4c1b-a4ed-9ae7fb424f28",
   "metadata": {},
   "outputs": [
    {
     "name": "stdin",
     "output_type": "stream",
     "text": [
      "enter your age  17\n"
     ]
    },
    {
     "name": "stdout",
     "output_type": "stream",
     "text": [
      "you are a teenager\n"
     ]
    }
   ],
   "source": [
    "age= int(input(\"enter your age \"))\n",
    "if 13<age<19:\n",
    "    print(\"you are a teenager\")\n",
    "else:\n",
    "    print(\"you are not a teenager\")\n",
    "    \n",
    "        "
   ]
  },
  {
   "cell_type": "code",
   "execution_count": 10,
   "id": "9ef6d086-889d-4de1-8d9b-1016a24d8daf",
   "metadata": {},
   "outputs": [
    {
     "name": "stdin",
     "output_type": "stream",
     "text": [
      "enter your angle 100\n"
     ]
    },
    {
     "name": "stdout",
     "output_type": "stream",
     "text": [
      "this is a obtuse angle\n"
     ]
    }
   ],
   "source": [
    "angle = int(input(\"enter your angle\"))\n",
    "if angle < 90:\n",
    "    print (\"this is a acute angle:\")\n",
    "elif  90<angle<180:\n",
    "    print(\"this is a obtuse angle\")\n",
    "else:\n",
    "    angle==90\n",
    "    print(\"this is a right angle\")\n",
    "    "
   ]
  },
  {
   "cell_type": "code",
   "execution_count": 12,
   "id": "ad104ad9-2c37-4872-aa19-366d2ab5ca35",
   "metadata": {},
   "outputs": [
    {
     "name": "stdin",
     "output_type": "stream",
     "text": [
      "enter the coefficient a  4\n",
      "enter the coefficient b  8\n",
      "enter the coefficient c  2\n"
     ]
    },
    {
     "name": "stdout",
     "output_type": "stream",
     "text": [
      "Roots are real and unreal  -0.2928932188134524 and -1.7071067811865475\n"
     ]
    }
   ],
   "source": [
    "import math \n",
    "a = float(input(\"enter the coefficient a \"))\n",
    "b = float(input(\"enter the coefficient b \"))\n",
    "c = float(input(\"enter the coefficient c \"))\n",
    "d=b*b-4*a*c;\n",
    "if d>0:\n",
    "    r1 = (-b + math.sqrt(d)) / (2 * a)\n",
    "    r2 = (-b - math.sqrt(d)) / (2 * a)\n",
    "    print(\"Roots are real and unreal \", r1 , \"and\" ,r2)\n",
    "elif d==0:\n",
    "    r1 = -b/(2*a)\n",
    "    print(\"Roots are real and same \", r1)\n",
    "else:\n",
    "    print(\"No real roots are there\")"
   ]
  },
  {
   "cell_type": "code",
   "execution_count": 25,
   "id": "87bd4ee2-6b0e-47a7-a0de-5c244e31aa8f",
   "metadata": {},
   "outputs": [
    {
     "name": "stdin",
     "output_type": "stream",
     "text": [
      "enter your week number (Between 1-7):  5\n"
     ]
    },
    {
     "name": "stdout",
     "output_type": "stream",
     "text": [
      "Today is  Friday\n"
     ]
    }
   ],
   "source": [
    "week = {1 : \"Monday\", 2 : \"Tuesday\", 3 : \"Wednesday\" , 4: \"Thursday\", 5: \"Friday\", 6 : \"Saturday\", 7: \"Sunday\"} \n",
    "\n",
    "number = int(input(\"enter your week number (Between 1-7): \"))\n",
    "if number < 1 or number >7:\n",
    "    print(\"Invalid weekday\")\n",
    "else:\n",
    "    print(\"Today is \", week [number])\n",
    "    "
   ]
  },
  {
   "cell_type": "code",
   "execution_count": 26,
   "id": "d5d1bfbd-3aad-48b6-ba75-e0d0833dc24e",
   "metadata": {},
   "outputs": [
    {
     "name": "stdin",
     "output_type": "stream",
     "text": [
      "enter the number: 5\n"
     ]
    },
    {
     "name": "stdout",
     "output_type": "stream",
     "text": [
      "5 is prime number\n"
     ]
    }
   ],
   "source": [
    "num = int(input(\"enter the number:\"))\n",
    "if num == 1:\n",
    "    print(\"is not a prime number\")\n",
    "if num>1:\n",
    "    for n in range(2,num):\n",
    "        if num%2==0:\n",
    "            print(num, \"is not prime number\")\n",
    "            break\n",
    "    else:\n",
    "        print(num, \"is prime number\")"
   ]
  },
  {
   "cell_type": "code",
   "execution_count": 1,
   "id": "81be2531-232f-4dd3-8d0d-bb710a9e28d9",
   "metadata": {},
   "outputs": [
    {
     "name": "stdin",
     "output_type": "stream",
     "text": [
      "enter weight in kg 45\n",
      "enter height in cm 145\n"
     ]
    },
    {
     "name": "stdout",
     "output_type": "stream",
     "text": [
      "Your BMI is : 21.40309155766944\n",
      "you're a normal weight \n"
     ]
    }
   ],
   "source": [
    "weight = float(input(\"enter weight in kg\"))\n",
    "height = float(input(\"enter height in cm\"))\n",
    "height_in_meters = height/100\n",
    "bmi = weight/(height_in_meters**2)\n",
    "print(\"Your BMI is :\", bmi)\n",
    "if bmi < 18.5:\n",
    "    print(\"you're underweight\")\n",
    "elif 18.5 <= bmi < 25 :\n",
    "    print(\"you're a normal weight \")\n",
    "elif 25 <= bmi <30:\n",
    "    print(\"you're overweight\")\n",
    "else:\n",
    "    print(\"you're obese\")\n",
    "    \n"
   ]
  },
  {
   "cell_type": "code",
   "execution_count": 2,
   "id": "f263a4e1-9b0b-477e-acae-22a23df405cc",
   "metadata": {},
   "outputs": [
    {
     "name": "stdin",
     "output_type": "stream",
     "text": [
      "enter a single charecter: anshul\n"
     ]
    },
    {
     "name": "stdout",
     "output_type": "stream",
     "text": [
      "you entered a lowercase charecter\n"
     ]
    }
   ],
   "source": [
    "ch = input(\"enter a single charecter:\")\n",
    "if ch>= 'A' and ch <= 'Z':\n",
    "    print(\"you entered an uppercase charecter\")\n",
    "elif ch>= 'a'and ch<= 'z':\n",
    "    print(\"you entered a lowercase charecter\")\n",
    "elif ch >='0' and ch<= '9':\n",
    "    print(\"you entered a digit\")\n",
    "else:\n",
    "    print(\"you entered a special charecter\")\n",
    "          "
   ]
  },
  {
   "cell_type": "code",
   "execution_count": 14,
   "id": "a5c1afc1-d75f-4755-81b1-4e735059bc16",
   "metadata": {},
   "outputs": [
    {
     "name": "stdin",
     "output_type": "stream",
     "text": [
      "enter the electricity usage(in kwh):  160\n"
     ]
    },
    {
     "name": "stdout",
     "output_type": "stream",
     "text": [
      "Electricity Bill = 147.60\n"
     ]
    }
   ],
   "source": [
    "usage = float(input(\"enter the electricity usage(in kwh): \"))\n",
    "if usage <=50:\n",
    "    bill = usage * 0.50\n",
    "elif usage <= 150:\n",
    "    bill = 25 + (usage - 50 ) * 0.75\n",
    "elif usage <= 250:\n",
    "    bill = 100 + (usage - 150 )* 1.20\n",
    "else:\n",
    "    bill = 220 + (usage - 250) * 1.50\n",
    "    \n",
    "fixed_charges = 30\n",
    "taxes = bill*0.05\n",
    "total_bill = bill + fixed_charges + taxes\n",
    "print(\"Electricity Bill = %.2f\" % total_bill)"
   ]
  },
  {
   "cell_type": "code",
   "execution_count": 15,
   "id": "e88ad421-03ff-4d37-8cfe-597c78023917",
   "metadata": {},
   "outputs": [
    {
     "name": "stdin",
     "output_type": "stream",
     "text": [
      "enter month number 7\n"
     ]
    },
    {
     "name": "stdout",
     "output_type": "stream",
     "text": [
      "31 days\n"
     ]
    }
   ],
   "source": [
    "month = int(input(\"enter month number\"))\n",
    "l1 = [4,6,9,11]\n",
    "l2 = [1,3,5,7,8,10,12]\n",
    "if month == 2:\n",
    "    print(\"28 or 29 days\")\n",
    "elif month in l1:\n",
    "    print(\"30 days\")\n",
    "elif month in l2:\n",
    "    print(\"31 days\")\n",
    "else :\n",
    "    print(\"invalid month\")"
   ]
  },
  {
   "cell_type": "code",
   "execution_count": 16,
   "id": "aa329873-5932-4c5e-8e18-19db0109caa6",
   "metadata": {},
   "outputs": [
    {
     "name": "stdout",
     "output_type": "stream",
     "text": [
      "Welcome to SBI bank\n",
      "\n",
      " Insert your card\n"
     ]
    },
    {
     "name": "stdin",
     "output_type": "stream",
     "text": [
      "enter yout four digit pin\n",
      " 1234\n"
     ]
    },
    {
     "name": "stdout",
     "output_type": "stream",
     "text": [
      "****Menu****\n",
      "1==balance\n",
      "2==deposit\n",
      "3==withdraw\n",
      "4==cancle\n"
     ]
    }
   ],
   "source": [
    "print(\"Welcome to SBI bank\\n\\n Insert your card\")\n",
    "password = 1234 \n",
    "pin= int(input(\"enter yout four digit pin\\n\"))\n",
    "if pin==password:\n",
    "    print(\"****Menu****\")\n",
    "    print(\"1==balance\")\n",
    "    print(\"2==deposit\")\n",
    "    print(\"3==withdraw\")\n",
    "    print(\"4==cancle\")\n",
    "else:\n",
    "    print(\"Pin incorrect !! Try Again\")"
   ]
  },
  {
   "cell_type": "code",
   "execution_count": 17,
   "id": "7fb494cb-5e47-4235-a9db-1af88afe40ae",
   "metadata": {},
   "outputs": [
    {
     "name": "stdin",
     "output_type": "stream",
     "text": [
      "enter number in x :  7\n",
      "enter number in y :  8\n",
      "enter number in z :  4\n"
     ]
    },
    {
     "name": "stdout",
     "output_type": "stream",
     "text": [
      "value of x is :  7\n",
      "value of y is :  8\n",
      "value of z is :  4\n",
      "Average of given number is : 6.333333333333333\n"
     ]
    }
   ],
   "source": [
    "x = int(input(\"enter number in x : \"))\n",
    "y = int(input(\"enter number in y : \"))\n",
    "z = int(input(\"enter number in z : \"))\n",
    "print (\"value of x is : \" ,x)\n",
    "print (\"value of y is : \" ,y)\n",
    "print (\"value of z is : \" ,z)\n",
    "avg = (x+y+z)/3\n",
    "print(\"Average of given number is :\", avg)"
   ]
  },
  {
   "cell_type": "code",
   "execution_count": 1,
   "id": "97175e25-476c-421b-8dcd-d88d4dd92a52",
   "metadata": {},
   "outputs": [
    {
     "name": "stdin",
     "output_type": "stream",
     "text": [
      "Enter the total number of elements you want inside your list:  4\n",
      "enter the element 6\n",
      "enter the element 7\n",
      "enter the element 3\n",
      "enter the element 7\n"
     ]
    },
    {
     "name": "stdout",
     "output_type": "stream",
     "text": [
      "[6, 7, 3, 7]\n",
      "addition 23\n",
      "Average: 5.75\n"
     ]
    }
   ],
   "source": [
    "n = int(input(\"Enter the total number of elements you want inside your list: \"))\n",
    "l = []\n",
    "for i in range(n):\n",
    "    ele=int(input(\"enter the element\"))\n",
    "    l.append(ele)\n",
    "print(l)\n",
    "addition = sum(l)\n",
    "print(\"addition\", addition)\n",
    "average = addition/n\n",
    "print(\"Average:\", average)\n"
   ]
  },
  {
   "cell_type": "code",
   "execution_count": 2,
   "id": "4c907b51-4e28-4f34-b641-d423e17de09d",
   "metadata": {},
   "outputs": [
    {
     "name": "stdin",
     "output_type": "stream",
     "text": [
      "enter temperature in celcius 35\n"
     ]
    },
    {
     "name": "stdout",
     "output_type": "stream",
     "text": [
      "temperature in fahrenheit:  95.0\n"
     ]
    }
   ],
   "source": [
    "celcius = float(input(\"enter temperature in celcius\"))\n",
    "fahrenheit = (celcius * 1.8) + 32\n",
    "print(\"temperature in fahrenheit: \", fahrenheit)\n",
    "                "
   ]
  },
  {
   "cell_type": "code",
   "execution_count": 3,
   "id": "13d4327e-7a67-44c7-b221-7a015593cedb",
   "metadata": {},
   "outputs": [
    {
     "name": "stdin",
     "output_type": "stream",
     "text": [
      "enter first number: 7\n",
      "enter second number: 9\n",
      "enter third number: 4\n"
     ]
    },
    {
     "name": "stdout",
     "output_type": "stream",
     "text": [
      "The numbers in ascending order :  4 7 9\n"
     ]
    }
   ],
   "source": [
    "x = int(input(\"enter first number:\"))\n",
    "y = int(input(\"enter second number:\"))\n",
    "z = int(input(\"enter third number:\"))\n",
    "if x<y and x<z:\n",
    "    if y<z:\n",
    "        min,mid,max = x,y,z\n",
    "    else:\n",
    "        min,mid,max= x,z,y\n",
    "elif y<x and y<z:\n",
    "    if x<z:\n",
    "        min,mid,max = x,y,z\n",
    "    else:\n",
    "        min,mid,max = x,z,y\n",
    "else:\n",
    "    if x<y:\n",
    "        min,mid,max = z,x,y\n",
    "    else:\n",
    "        min,mid,max = z,y,x\n",
    "print(\"The numbers in ascending order : \" , min,mid,max)        \n",
    "        "
   ]
  },
  {
   "cell_type": "code",
   "execution_count": 4,
   "id": "f0bfa39c-0d91-416b-be52-902ace064f80",
   "metadata": {},
   "outputs": [
    {
     "name": "stdin",
     "output_type": "stream",
     "text": [
      "enter a: 5\n",
      "enter b: 7\n",
      "enter c: 3\n"
     ]
    },
    {
     "name": "stdout",
     "output_type": "stream",
     "text": [
      "Roots are complex and Imaginary\n"
     ]
    }
   ],
   "source": [
    "import math \n",
    "a = int(input(\"enter a:\"))\n",
    "b = int(input(\"enter b:\"))\n",
    "c = int(input(\"enter c:\"))\n",
    "d = b*b-4*a*c\n",
    "if d==0:\n",
    "    root1 = -b/(2*a)\n",
    "    root2 = root1\n",
    "    print(\"Roots are real and unreal\")\n",
    "    print(\"Root1 and Root2 are\",root1,\"and\",root2)\n",
    "elif d>0:\n",
    "    root1 = (-b+math.sqrt(d))/(2*a)\n",
    "    root2 = (-b-math.sqrt(d))/(2*a)\n",
    "    print(\"Roots are unreal and Distinct\")\n",
    "    print(\"Root1 and Root2 are\",root1,\"and\",root2)\n",
    "else:\n",
    "    print(\"Roots are complex and Imaginary\")"
   ]
  },
  {
   "cell_type": "code",
   "execution_count": 5,
   "id": "fce354fd-f81f-48f0-8985-60d0900933b8",
   "metadata": {},
   "outputs": [],
   "source": [
    "\n",
    "def Isvalidpassword(password):\n",
    "    if(len(password) > 5 and len(password) < 15):\n",
    "        lowercase = False\n",
    "        uppercase = False\n",
    "        special = False\n",
    "        for char in password:\n",
    "            if(char.isdigit()):\n",
    "                num = True\n",
    "            if(char.islower()):\n",
    "                lowercase = True\n",
    "            if(char.isupper()):\n",
    "                uppercase = True\n",
    "            if(not char.isalnum()):\n",
    "                special = True\n",
    "        return lowercase and uppercase and special\n",
    "    else:\n",
    "        return False"
   ]
  },
  {
   "cell_type": "code",
   "execution_count": 7,
   "id": "d85f5dea-0ef5-4c5e-b947-f30a2961aff3",
   "metadata": {},
   "outputs": [
    {
     "name": "stdout",
     "output_type": "stream",
     "text": [
      "True\n"
     ]
    }
   ],
   "source": [
    "userinput = \"Max!123\"\n",
    "print(Isvalidpassword(userinput))"
   ]
  },
  {
   "cell_type": "code",
   "execution_count": 9,
   "id": "21b92a6d-7ff3-4cea-b2f4-57c03d74e579",
   "metadata": {},
   "outputs": [
    {
     "name": "stdout",
     "output_type": "stream",
     "text": [
      "[2, 3]\n",
      "[4, 1]\n",
      "\n",
      "\n",
      "[8, 1]\n",
      "[3, 4]\n",
      "The final matrix is ,\n",
      "[10, 4, 7, 5]\n"
     ]
    }
   ],
   "source": [
    "a=[[2,3],[4,1]]\n",
    "b=[[8,1],[3,4]]\n",
    "for i in a :\n",
    "    print(i)\n",
    "print(\"\\n\")\n",
    "for i in b :\n",
    "    print(i)\n",
    "f = []\n",
    "for i in range(2):\n",
    "    for j in range(2):\n",
    "        c=a[i][j]+b[i][j]\n",
    "        f.append(c)\n",
    "print(\"The final matrix is ,\")\n",
    "print(f)"
   ]
  },
  {
   "cell_type": "code",
   "execution_count": 10,
   "id": "e901c9de-a60a-4e37-bd6c-5940868865a3",
   "metadata": {},
   "outputs": [
    {
     "name": "stdout",
     "output_type": "stream",
     "text": [
      "[1, 2, 3]\n"
     ]
    }
   ],
   "source": [
    "x=[[1,2,3]]\n",
    "y=[[4,5,6]]\n",
    "result = [[0,0,0]]\n",
    "for i in range(len(x)):\n",
    "    for j in range(len(x[0])):\n",
    "        result[i][j] = x[i][j]\n",
    "y[i][j]\n",
    "for r in result:\n",
    "    print(r)\n",
    "            "
   ]
  },
  {
   "cell_type": "code",
   "execution_count": 14,
   "id": "c0ab6eec-17aa-445e-b380-b491ebdb757e",
   "metadata": {},
   "outputs": [
    {
     "name": "stdin",
     "output_type": "stream",
     "text": [
      "enter the first number: 4\n",
      "enter the second number: 2\n"
     ]
    },
    {
     "name": "stdout",
     "output_type": "stream",
     "text": [
      "HCF of two numbers is 2\n"
     ]
    }
   ],
   "source": [
    "a = int(input(\"enter the first number:\"))\n",
    "b = int(input(\"enter the second number:\"))\n",
    "while (b):\n",
    "    a, b = b, a % b\n",
    "print(\"HCF of two numbers is\",a)"
   ]
  },
  {
   "cell_type": "code",
   "execution_count": 15,
   "id": "55be07cf-a968-4185-a362-88f0b3d85323",
   "metadata": {},
   "outputs": [
    {
     "name": "stdout",
     "output_type": "stream",
     "text": [
      "0\n",
      "1\n"
     ]
    },
    {
     "name": "stdin",
     "output_type": "stream",
     "text": [
      "upto which element 5\n"
     ]
    },
    {
     "name": "stdout",
     "output_type": "stream",
     "text": [
      "1\n",
      "2\n",
      "3\n",
      "5\n"
     ]
    }
   ],
   "source": [
    "first = 0\n",
    "second = 1\n",
    "print(first)\n",
    "print(second) \n",
    "N=int(input(\"upto which element\"))\n",
    "for a in range(1,N):\n",
    "    third=first+second\n",
    "    print(third)\n",
    "    first,second=second,third\n"
   ]
  },
  {
   "cell_type": "code",
   "execution_count": 16,
   "id": "42de308c-6e90-44a2-83d9-4d3486c511f8",
   "metadata": {},
   "outputs": [
    {
     "name": "stdin",
     "output_type": "stream",
     "text": [
      "enter index number :  6\n"
     ]
    },
    {
     "name": "stdout",
     "output_type": "stream",
     "text": [
      "Fibonacci number at index6 is 8\n"
     ]
    }
   ],
   "source": [
    "def fibonacci(n):\n",
    "    if n < 0 :\n",
    "        print(\"incorrect input\")\n",
    "    elif n==0:\n",
    "        return 0\n",
    "    elif n == 1 or n == 2:\n",
    "        return 1\n",
    "    else:\n",
    "        return fibonacci(n-1) + fibonacci(n-2)\n",
    "n = input(\"enter index number : \")\n",
    "print(\"Fibonacci number at index\" ,end = '')\n",
    "print(n,\"is\",fibonacci(int(n)))"
   ]
  },
  {
   "cell_type": "code",
   "execution_count": 17,
   "id": "4edea9ff-2763-4b21-9c11-af3fc3febfd1",
   "metadata": {},
   "outputs": [
    {
     "name": "stdin",
     "output_type": "stream",
     "text": [
      "enter the year :  2023\n",
      "enter the month:  10\n"
     ]
    },
    {
     "name": "stdout",
     "output_type": "stream",
     "text": [
      "the calendar of the respective year and month id:      October 2023\n",
      "Mo Tu We Th Fr Sa Su\n",
      "                   1\n",
      " 2  3  4  5  6  7  8\n",
      " 9 10 11 12 13 14 15\n",
      "16 17 18 19 20 21 22\n",
      "23 24 25 26 27 28 29\n",
      "30 31\n",
      "\n"
     ]
    }
   ],
   "source": [
    "import calendar\n",
    "year = int(input(\"enter the year : \" ))\n",
    "month = int(input(\"enter the month: \" ))\n",
    "x = calendar.month(year,month)\n",
    "print(\"the calendar of the respective year and month id: \" ,x)"
   ]
  },
  {
   "cell_type": "code",
   "execution_count": null,
   "id": "2ede0f42-cdcd-4418-bcec-aa8a5fdfe478",
   "metadata": {},
   "outputs": [],
   "source": []
  }
 ],
 "metadata": {
  "kernelspec": {
   "display_name": "Python 3 (ipykernel)",
   "language": "python",
   "name": "python3"
  },
  "language_info": {
   "codemirror_mode": {
    "name": "ipython",
    "version": 3
   },
   "file_extension": ".py",
   "mimetype": "text/x-python",
   "name": "python",
   "nbconvert_exporter": "python",
   "pygments_lexer": "ipython3",
   "version": "3.10.8"
  }
 },
 "nbformat": 4,
 "nbformat_minor": 5
}
